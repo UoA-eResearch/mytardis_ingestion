{
 "cells": [
  {
   "cell_type": "code",
   "execution_count": null,
   "id": "56b2a712-5feb-4602-8672-987b17be91a0",
   "metadata": {},
   "outputs": [],
   "source": [
    "from pydantic import BaseSettings, BaseModel\n",
    "from typing import List, Dict\n",
    "\n",
    "class TestStore(BaseModel):\n",
    "    a: str\n",
    "    b: Dict[str,str]\n",
    "\n",
    "class Envs(BaseSettings):\n",
    "    stores: List[TestStore]\n",
    "\n",
    "    class Config:\n",
    "        env_nested_delimiter = '__'\n",
    "\n",
    "envs = Envs(_env_file='testenv\n",
    "\n"
   ]
  }
 ],
 "metadata": {
  "kernelspec": {
   "display_name": "Python 3 (ipykernel)",
   "language": "python",
   "name": "python3"
  },
  "language_info": {
   "codemirror_mode": {
    "name": "ipython",
    "version": 3
   },
   "file_extension": ".py",
   "mimetype": "text/x-python",
   "name": "python",
   "nbconvert_exporter": "python",
   "pygments_lexer": "ipython3",
   "version": "3.11.4"
  }
 },
 "nbformat": 4,
 "nbformat_minor": 5
}
